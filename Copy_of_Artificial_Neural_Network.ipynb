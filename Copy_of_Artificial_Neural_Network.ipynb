{
  "nbformat": 4,
  "nbformat_minor": 0,
  "metadata": {
    "colab": {
      "provenance": [],
      "include_colab_link": true
    },
    "kernelspec": {
      "name": "python3",
      "display_name": "Python 3"
    }
  },
  "cells": [
    {
      "cell_type": "markdown",
      "metadata": {
        "id": "view-in-github",
        "colab_type": "text"
      },
      "source": [
        "<a href=\"https://colab.research.google.com/github/kinghim17/ANN-regression/blob/main/Copy_of_Artificial_Neural_Network.ipynb\" target=\"_parent\"><img src=\"https://colab.research.google.com/assets/colab-badge.svg\" alt=\"Open In Colab\"/></a>"
      ]
    },
    {
      "cell_type": "markdown",
      "metadata": {
        "id": "3cbb7fRy-eyr"
      },
      "source": [
        "# Artificial Neural Network"
      ]
    },
    {
      "cell_type": "markdown",
      "metadata": {
        "id": "8sNDnxE2-pwE"
      },
      "source": [
        "### Importing the libraries"
      ]
    },
    {
      "cell_type": "code",
      "metadata": {
        "id": "lxChR1Rk-umf"
      },
      "source": [
        "import numpy as np\n",
        "import pandas as pd\n",
        "import tensorflow as tf"
      ],
      "execution_count": 1,
      "outputs": []
    },
    {
      "cell_type": "code",
      "metadata": {
        "id": "uBTqR3nacj0e",
        "colab": {
          "base_uri": "https://localhost:8080/",
          "height": 35
        },
        "outputId": "eb1ad0b6-6468-477c-a0aa-ce657af72f12"
      },
      "source": [
        "tf.__version__"
      ],
      "execution_count": 2,
      "outputs": [
        {
          "output_type": "execute_result",
          "data": {
            "text/plain": [
              "'2.15.0'"
            ],
            "application/vnd.google.colaboratory.intrinsic+json": {
              "type": "string"
            }
          },
          "metadata": {},
          "execution_count": 2
        }
      ]
    },
    {
      "cell_type": "markdown",
      "metadata": {
        "id": "AG3FQEch-yuA"
      },
      "source": [
        "## Part 1 - Data Preprocessing"
      ]
    },
    {
      "cell_type": "markdown",
      "metadata": {
        "id": "-4zq8Mza_D9O"
      },
      "source": [
        "### Importing the dataset"
      ]
    },
    {
      "cell_type": "code",
      "metadata": {
        "id": "B9CV13Co_HHM"
      },
      "source": [
        "dataset = pd.read_excel('Folds5x2_pp.xlsx')\n",
        "X = dataset.iloc[:, :-1].values\n",
        "y = dataset.iloc[:, -1].values"
      ],
      "execution_count": 3,
      "outputs": []
    },
    {
      "cell_type": "code",
      "source": [
        "print(X)"
      ],
      "metadata": {
        "colab": {
          "base_uri": "https://localhost:8080/"
        },
        "id": "ClsJ-g3UcWkD",
        "outputId": "7aac6b08-fac1-44a8-92eb-241388b1ca50"
      },
      "execution_count": 4,
      "outputs": [
        {
          "output_type": "stream",
          "name": "stdout",
          "text": [
            "[[  14.96   41.76 1024.07   73.17]\n",
            " [  25.18   62.96 1020.04   59.08]\n",
            " [   5.11   39.4  1012.16   92.14]\n",
            " ...\n",
            " [  31.32   74.33 1012.92   36.48]\n",
            " [  24.48   69.45 1013.86   62.39]\n",
            " [  21.6    62.52 1017.23   67.87]]\n"
          ]
        }
      ]
    },
    {
      "cell_type": "code",
      "source": [
        "print(y)"
      ],
      "metadata": {
        "colab": {
          "base_uri": "https://localhost:8080/"
        },
        "id": "BhRvQU1FcXAn",
        "outputId": "649e1040-f1a9-4f45-e08b-7838f6d39f45"
      },
      "execution_count": 5,
      "outputs": [
        {
          "output_type": "stream",
          "name": "stdout",
          "text": [
            "[463.26 444.37 488.56 ... 429.57 435.74 453.28]\n"
          ]
        }
      ]
    },
    {
      "cell_type": "markdown",
      "metadata": {
        "id": "VC6omXel_Up0"
      },
      "source": [
        "### Splitting the dataset into the Training set and Test set"
      ]
    },
    {
      "cell_type": "code",
      "metadata": {
        "id": "L5edeb2r_agx"
      },
      "source": [
        "from sklearn.model_selection import train_test_split\n",
        "X_train, X_test, y_train, y_test = train_test_split(X, y, test_size = 0.2, random_state = 0)"
      ],
      "execution_count": 6,
      "outputs": []
    },
    {
      "cell_type": "markdown",
      "metadata": {
        "id": "_mSLlAT9_eyI"
      },
      "source": [
        "## Part 2 - Building the ANN"
      ]
    },
    {
      "cell_type": "markdown",
      "metadata": {
        "id": "CsBULd_f_wLY"
      },
      "source": [
        "### Initializing the ANN"
      ]
    },
    {
      "cell_type": "code",
      "metadata": {
        "id": "J6Hd97Ls__Nz"
      },
      "source": [
        "ann = tf.keras.models.Sequential()"
      ],
      "execution_count": 7,
      "outputs": []
    },
    {
      "cell_type": "markdown",
      "metadata": {
        "id": "iitAFJS_ABUn"
      },
      "source": [
        "### Adding the input layer and the first hidden layer"
      ]
    },
    {
      "cell_type": "code",
      "metadata": {
        "id": "ksO_Vv40AHix"
      },
      "source": [
        "ann.add(tf.keras.layers.Dense(units=6, activation='relu'))"
      ],
      "execution_count": 8,
      "outputs": []
    },
    {
      "cell_type": "markdown",
      "metadata": {
        "id": "-lb4kK_wAKbs"
      },
      "source": [
        "### Adding the second hidden layer"
      ]
    },
    {
      "cell_type": "code",
      "metadata": {
        "id": "c2357OqEAQOQ"
      },
      "source": [
        "ann.add(tf.keras.layers.Dense(units=6, activation='relu'))"
      ],
      "execution_count": 9,
      "outputs": []
    },
    {
      "cell_type": "markdown",
      "metadata": {
        "id": "jwMOmKb3AdBY"
      },
      "source": [
        "### Adding the output layer"
      ]
    },
    {
      "cell_type": "code",
      "metadata": {
        "id": "YFATpzsUAkLL"
      },
      "source": [
        "ann.add(tf.keras.layers.Dense(units=1))"
      ],
      "execution_count": 10,
      "outputs": []
    },
    {
      "cell_type": "markdown",
      "metadata": {
        "id": "fq7e4fF6A1yy"
      },
      "source": [
        "## Part 3 - Training the ANN"
      ]
    },
    {
      "cell_type": "markdown",
      "metadata": {
        "id": "qDeylAs2An25"
      },
      "source": [
        "### Compiling the ANN"
      ]
    },
    {
      "cell_type": "code",
      "metadata": {
        "id": "pesgbWlCAtB4"
      },
      "source": [
        "ann.compile(optimizer = 'adam', loss = 'mean_squared_error')"
      ],
      "execution_count": 11,
      "outputs": []
    },
    {
      "cell_type": "markdown",
      "metadata": {
        "id": "YjVuiybYOo7r"
      },
      "source": [
        "### Training the ANN model on the Training set"
      ]
    },
    {
      "cell_type": "code",
      "metadata": {
        "id": "c_vV-tiiA5zn",
        "colab": {
          "base_uri": "https://localhost:8080/"
        },
        "outputId": "441ad55a-ffe4-459a-87c1-38c986503cec"
      },
      "source": [
        "ann.fit(X_train, y_train, batch_size = 32, epochs = 100)"
      ],
      "execution_count": 12,
      "outputs": [
        {
          "output_type": "stream",
          "name": "stdout",
          "text": [
            "Epoch 1/100\n",
            "240/240 [==============================] - 2s 4ms/step - loss: 252660.3281\n",
            "Epoch 2/100\n",
            "240/240 [==============================] - 1s 4ms/step - loss: 50182.6289\n",
            "Epoch 3/100\n",
            "240/240 [==============================] - 1s 3ms/step - loss: 418.1886\n",
            "Epoch 4/100\n",
            "240/240 [==============================] - 1s 2ms/step - loss: 275.1767\n",
            "Epoch 5/100\n",
            "240/240 [==============================] - 1s 2ms/step - loss: 269.1489\n",
            "Epoch 6/100\n",
            "240/240 [==============================] - 0s 2ms/step - loss: 262.3840\n",
            "Epoch 7/100\n",
            "240/240 [==============================] - 1s 2ms/step - loss: 254.8586\n",
            "Epoch 8/100\n",
            "240/240 [==============================] - 0s 2ms/step - loss: 246.2489\n",
            "Epoch 9/100\n",
            "240/240 [==============================] - 1s 2ms/step - loss: 236.9515\n",
            "Epoch 10/100\n",
            "240/240 [==============================] - 1s 2ms/step - loss: 226.3529\n",
            "Epoch 11/100\n",
            "240/240 [==============================] - 1s 2ms/step - loss: 215.2623\n",
            "Epoch 12/100\n",
            "240/240 [==============================] - 0s 2ms/step - loss: 202.1546\n",
            "Epoch 13/100\n",
            "240/240 [==============================] - 1s 2ms/step - loss: 183.1053\n",
            "Epoch 14/100\n",
            "240/240 [==============================] - 0s 2ms/step - loss: 159.7723\n",
            "Epoch 15/100\n",
            "240/240 [==============================] - 0s 2ms/step - loss: 130.5724\n",
            "Epoch 16/100\n",
            "240/240 [==============================] - 0s 2ms/step - loss: 97.0546\n",
            "Epoch 17/100\n",
            "240/240 [==============================] - 0s 2ms/step - loss: 64.3614\n",
            "Epoch 18/100\n",
            "240/240 [==============================] - 0s 2ms/step - loss: 41.8638\n",
            "Epoch 19/100\n",
            "240/240 [==============================] - 0s 2ms/step - loss: 31.0932\n",
            "Epoch 20/100\n",
            "240/240 [==============================] - 0s 2ms/step - loss: 27.3752\n",
            "Epoch 21/100\n",
            "240/240 [==============================] - 0s 2ms/step - loss: 26.5493\n",
            "Epoch 22/100\n",
            "240/240 [==============================] - 1s 2ms/step - loss: 26.1302\n",
            "Epoch 23/100\n",
            "240/240 [==============================] - 1s 3ms/step - loss: 26.1466\n",
            "Epoch 24/100\n",
            "240/240 [==============================] - 1s 4ms/step - loss: 26.0897\n",
            "Epoch 25/100\n",
            "240/240 [==============================] - 1s 3ms/step - loss: 26.0198\n",
            "Epoch 26/100\n",
            "240/240 [==============================] - 1s 3ms/step - loss: 26.3996\n",
            "Epoch 27/100\n",
            "240/240 [==============================] - 1s 3ms/step - loss: 26.4013\n",
            "Epoch 28/100\n",
            "240/240 [==============================] - 1s 3ms/step - loss: 26.1938\n",
            "Epoch 29/100\n",
            "240/240 [==============================] - 0s 2ms/step - loss: 26.5055\n",
            "Epoch 30/100\n",
            "240/240 [==============================] - 0s 2ms/step - loss: 26.2182\n",
            "Epoch 31/100\n",
            "240/240 [==============================] - 1s 2ms/step - loss: 26.5481\n",
            "Epoch 32/100\n",
            "240/240 [==============================] - 0s 2ms/step - loss: 26.3110\n",
            "Epoch 33/100\n",
            "240/240 [==============================] - 0s 2ms/step - loss: 26.3590\n",
            "Epoch 34/100\n",
            "240/240 [==============================] - 1s 2ms/step - loss: 26.4554\n",
            "Epoch 35/100\n",
            "240/240 [==============================] - 1s 2ms/step - loss: 26.2921\n",
            "Epoch 36/100\n",
            "240/240 [==============================] - 0s 2ms/step - loss: 27.0473\n",
            "Epoch 37/100\n",
            "240/240 [==============================] - 0s 2ms/step - loss: 26.6688\n",
            "Epoch 38/100\n",
            "240/240 [==============================] - 0s 2ms/step - loss: 26.9811\n",
            "Epoch 39/100\n",
            "240/240 [==============================] - 0s 2ms/step - loss: 26.7476\n",
            "Epoch 40/100\n",
            "240/240 [==============================] - 1s 2ms/step - loss: 27.1441\n",
            "Epoch 41/100\n",
            "240/240 [==============================] - 1s 2ms/step - loss: 26.9784\n",
            "Epoch 42/100\n",
            "240/240 [==============================] - 1s 2ms/step - loss: 26.4534\n",
            "Epoch 43/100\n",
            "240/240 [==============================] - 1s 2ms/step - loss: 27.0370\n",
            "Epoch 44/100\n",
            "240/240 [==============================] - 1s 2ms/step - loss: 26.9754\n",
            "Epoch 45/100\n",
            "240/240 [==============================] - 1s 2ms/step - loss: 26.9596\n",
            "Epoch 46/100\n",
            "240/240 [==============================] - 1s 2ms/step - loss: 27.3735\n",
            "Epoch 47/100\n",
            "240/240 [==============================] - 0s 2ms/step - loss: 26.6107\n",
            "Epoch 48/100\n",
            "240/240 [==============================] - 1s 3ms/step - loss: 27.2211\n",
            "Epoch 49/100\n",
            "240/240 [==============================] - 1s 3ms/step - loss: 26.8884\n",
            "Epoch 50/100\n",
            "240/240 [==============================] - 1s 3ms/step - loss: 26.7706\n",
            "Epoch 51/100\n",
            "240/240 [==============================] - 1s 3ms/step - loss: 27.2956\n",
            "Epoch 52/100\n",
            "240/240 [==============================] - 1s 3ms/step - loss: 27.7527\n",
            "Epoch 53/100\n",
            "240/240 [==============================] - 1s 2ms/step - loss: 26.8365\n",
            "Epoch 54/100\n",
            "240/240 [==============================] - 0s 2ms/step - loss: 26.8989\n",
            "Epoch 55/100\n",
            "240/240 [==============================] - 1s 2ms/step - loss: 26.7198\n",
            "Epoch 56/100\n",
            "240/240 [==============================] - 1s 2ms/step - loss: 27.1579\n",
            "Epoch 57/100\n",
            "240/240 [==============================] - 1s 2ms/step - loss: 26.8710\n",
            "Epoch 58/100\n",
            "240/240 [==============================] - 1s 2ms/step - loss: 26.4889\n",
            "Epoch 59/100\n",
            "240/240 [==============================] - 1s 2ms/step - loss: 27.2704\n",
            "Epoch 60/100\n",
            "240/240 [==============================] - 1s 2ms/step - loss: 26.9597\n",
            "Epoch 61/100\n",
            "240/240 [==============================] - 1s 2ms/step - loss: 26.6455\n",
            "Epoch 62/100\n",
            "240/240 [==============================] - 0s 2ms/step - loss: 26.7293\n",
            "Epoch 63/100\n",
            "240/240 [==============================] - 1s 2ms/step - loss: 26.7112\n",
            "Epoch 64/100\n",
            "240/240 [==============================] - 1s 2ms/step - loss: 27.4941\n",
            "Epoch 65/100\n",
            "240/240 [==============================] - 1s 2ms/step - loss: 26.6842\n",
            "Epoch 66/100\n",
            "240/240 [==============================] - 1s 2ms/step - loss: 26.7256\n",
            "Epoch 67/100\n",
            "240/240 [==============================] - 1s 2ms/step - loss: 27.7881\n",
            "Epoch 68/100\n",
            "240/240 [==============================] - 1s 2ms/step - loss: 27.9187\n",
            "Epoch 69/100\n",
            "240/240 [==============================] - 1s 2ms/step - loss: 27.2301\n",
            "Epoch 70/100\n",
            "240/240 [==============================] - 0s 2ms/step - loss: 26.8988\n",
            "Epoch 71/100\n",
            "240/240 [==============================] - 1s 3ms/step - loss: 26.9595\n",
            "Epoch 72/100\n",
            "240/240 [==============================] - 1s 3ms/step - loss: 26.9620\n",
            "Epoch 73/100\n",
            "240/240 [==============================] - 1s 3ms/step - loss: 27.0523\n",
            "Epoch 74/100\n",
            "240/240 [==============================] - 1s 3ms/step - loss: 26.9548\n",
            "Epoch 75/100\n",
            "240/240 [==============================] - 1s 3ms/step - loss: 26.7236\n",
            "Epoch 76/100\n",
            "240/240 [==============================] - 1s 3ms/step - loss: 26.4736\n",
            "Epoch 77/100\n",
            "240/240 [==============================] - 0s 2ms/step - loss: 26.5920\n",
            "Epoch 78/100\n",
            "240/240 [==============================] - 0s 2ms/step - loss: 26.9494\n",
            "Epoch 79/100\n",
            "240/240 [==============================] - 0s 2ms/step - loss: 26.7875\n",
            "Epoch 80/100\n",
            "240/240 [==============================] - 0s 2ms/step - loss: 27.0699\n",
            "Epoch 81/100\n",
            "240/240 [==============================] - 1s 2ms/step - loss: 26.5955\n",
            "Epoch 82/100\n",
            "240/240 [==============================] - 1s 2ms/step - loss: 27.2445\n",
            "Epoch 83/100\n",
            "240/240 [==============================] - 1s 2ms/step - loss: 26.5620\n",
            "Epoch 84/100\n",
            "240/240 [==============================] - 0s 2ms/step - loss: 26.4244\n",
            "Epoch 85/100\n",
            "240/240 [==============================] - 1s 2ms/step - loss: 27.5955\n",
            "Epoch 86/100\n",
            "240/240 [==============================] - 1s 2ms/step - loss: 26.3307\n",
            "Epoch 87/100\n",
            "240/240 [==============================] - 1s 2ms/step - loss: 26.9016\n",
            "Epoch 88/100\n",
            "240/240 [==============================] - 0s 2ms/step - loss: 27.4051\n",
            "Epoch 89/100\n",
            "240/240 [==============================] - 0s 2ms/step - loss: 26.6052\n",
            "Epoch 90/100\n",
            "240/240 [==============================] - 1s 2ms/step - loss: 27.1970\n",
            "Epoch 91/100\n",
            "240/240 [==============================] - 0s 2ms/step - loss: 26.9990\n",
            "Epoch 92/100\n",
            "240/240 [==============================] - 1s 2ms/step - loss: 26.7026\n",
            "Epoch 93/100\n",
            "240/240 [==============================] - 1s 3ms/step - loss: 27.3766\n",
            "Epoch 94/100\n",
            "240/240 [==============================] - 1s 3ms/step - loss: 26.7596\n",
            "Epoch 95/100\n",
            "240/240 [==============================] - 1s 4ms/step - loss: 26.9261\n",
            "Epoch 96/100\n",
            "240/240 [==============================] - 1s 4ms/step - loss: 26.7708\n",
            "Epoch 97/100\n",
            "240/240 [==============================] - 1s 3ms/step - loss: 26.6712\n",
            "Epoch 98/100\n",
            "240/240 [==============================] - 1s 4ms/step - loss: 27.2872\n",
            "Epoch 99/100\n",
            "240/240 [==============================] - 1s 3ms/step - loss: 26.8186\n",
            "Epoch 100/100\n",
            "240/240 [==============================] - 1s 3ms/step - loss: 27.0456\n"
          ]
        },
        {
          "output_type": "execute_result",
          "data": {
            "text/plain": [
              "<keras.src.callbacks.History at 0x7ed9ae802860>"
            ]
          },
          "metadata": {},
          "execution_count": 12
        }
      ]
    },
    {
      "cell_type": "markdown",
      "metadata": {
        "id": "0H0zKKNEBLD5"
      },
      "source": [
        "### Predicting the results of the Test set"
      ]
    },
    {
      "cell_type": "code",
      "metadata": {
        "id": "IA0yApEmBG1X",
        "colab": {
          "base_uri": "https://localhost:8080/"
        },
        "outputId": "84d82477-1cea-47ce-f41b-a70a66cd3f81"
      },
      "source": [
        "y_pred = ann.predict(X_test)\n",
        "np.set_printoptions(precision=2)\n",
        "print(np.concatenate((y_pred.reshape(len(y_pred),1), y_test.reshape(len(y_test),1)),1))"
      ],
      "execution_count": 13,
      "outputs": [
        {
          "output_type": "stream",
          "name": "stdout",
          "text": [
            "60/60 [==============================] - 0s 1ms/step\n",
            "[[429.29 431.23]\n",
            " [460.35 460.01]\n",
            " [463.83 461.14]\n",
            " ...\n",
            " [471.11 473.26]\n",
            " [437.88 438.  ]\n",
            " [457.12 463.28]]\n"
          ]
        }
      ]
    },
    {
      "cell_type": "markdown",
      "source": [
        "### evaluation of the performance"
      ],
      "metadata": {
        "id": "tEoxK1E_g0lc"
      }
    },
    {
      "cell_type": "code",
      "source": [
        "from sklearn.metrics import r2_score\n",
        "r2_score(y_test, y_pred)"
      ],
      "metadata": {
        "colab": {
          "base_uri": "https://localhost:8080/"
        },
        "id": "GeV-nnbmhDv-",
        "outputId": "06881a94-2006-4dfe-82c4-a3e4685183a6"
      },
      "execution_count": 14,
      "outputs": [
        {
          "output_type": "execute_result",
          "data": {
            "text/plain": [
              "0.9027776349358867"
            ]
          },
          "metadata": {},
          "execution_count": 14
        }
      ]
    }
  ]
}